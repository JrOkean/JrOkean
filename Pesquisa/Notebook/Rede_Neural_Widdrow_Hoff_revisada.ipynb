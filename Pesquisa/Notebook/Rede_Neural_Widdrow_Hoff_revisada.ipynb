{
  "nbformat": 4,
  "nbformat_minor": 0,
  "metadata": {
    "colab": {
      "provenance": [],
      "authorship_tag": "ABX9TyNqSXJt4dkXMrfuEoPnj/TC",
      "include_colab_link": true
    },
    "kernelspec": {
      "name": "python3",
      "display_name": "Python 3"
    },
    "language_info": {
      "name": "python"
    }
  },
  "cells": [
    {
      "cell_type": "markdown",
      "metadata": {
        "id": "view-in-github",
        "colab_type": "text"
      },
      "source": [
        "<a href=\"https://colab.research.google.com/github/JrOkean/JrOkean/blob/main/Pesquisa/Notebook/Rede_Neural_Widdrow_Hoff_revisada.ipynb\" target=\"_parent\"><img src=\"https://colab.research.google.com/assets/colab-badge.svg\" alt=\"Open In Colab\"/></a>"
      ]
    },
    {
      "cell_type": "markdown",
      "source": [
        "# Rede Neural Widdrow-Hoff revisada\n",
        "\n",
        "Nootbook from [jrokean](https://github.com/JrOkean) based on example gived by the university professor Leonardo."
      ],
      "metadata": {
        "id": "y7HDMBSKDb_U"
      }
    },
    {
      "cell_type": "code",
      "execution_count": 2,
      "metadata": {
        "id": "-LYOFUGu-W3s"
      },
      "outputs": [],
      "source": [
        "import numpy as np\n",
        "import matplotlib.pyplot as plt\n",
        "from functools import partial\n",
        "from IPython.display import SVG"
      ]
    },
    {
      "cell_type": "markdown",
      "source": [
        "O capítulo 3 do livro do Theodoridis e Kotroumbas começa introduzindo a ideia de **funções lineares descriminantes** e **hiperplanos de decisão**.\n",
        "\n",
        "A primeira fórmula é apresentada como é o hiperplano:\n",
        "$$g(x) = w^Tx+w_0=0$$\n",
        "Nos quais:\n",
        "1. $w^T$ é o vetor de pesos;\n",
        "2. $w_0$ é o limear;"
      ],
      "metadata": {
        "id": "Ygx-Lhw1Ps9K"
      }
    },
    {
      "cell_type": "code",
      "source": [
        "#1. Leitura do conjunto de dados;\n",
        "x1 = np.array([1, 2, 3, 4, 5])\n",
        "y1 = np.array([1, 1, 1, 2, 2])\n",
        "\n",
        "#Conjunto para testes:\n",
        "x2 = np.array([6, 7, 8, 9, 10])\n",
        "y2 = np.array([2, 2, 2, 1, 1])\n",
        "\n",
        "#2. Projeção no espaço cartesiano;\n",
        "#3. Autovalores e autovetores;\n",
        "#4. Núcleo de transformação ktl\n",
        "\n"
      ],
      "metadata": {
        "id": "92hB2NKvF2GB"
      },
      "execution_count": 3,
      "outputs": []
    },
    {
      "cell_type": "markdown",
      "source": [
        "## Algoritmo de treinamento"
      ],
      "metadata": {
        "id": "wUAyKI9BWCpl"
      }
    }
  ]
}